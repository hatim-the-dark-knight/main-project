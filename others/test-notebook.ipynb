{
 "cells": [
  {
   "attachments": {},
   "cell_type": "markdown",
   "id": "558225f0",
   "metadata": {},
   "source": [
    "#Encoder"
   ]
  },
  {
   "cell_type": "code",
   "execution_count": null,
   "id": "632e45a6",
   "metadata": {},
   "outputs": [],
   "source": [
    "import tensorflow as tf\n",
    "from tensorflow.keras.applications.resnet50 import ResNet50\n",
    "from tensorflow.keras.applications.resnet50 import preprocess_input\n",
    "from tensorflow.keras.preprocessing import image\n",
    "import numpy"
   ]
  },
  {
   "cell_type": "code",
   "execution_count": null,
   "id": "cddbdfd8",
   "metadata": {},
   "outputs": [],
   "source": [
    "def encode_image(image_path):\n",
    "    # Load the pre-trained ResNet50 model\n",
    "    model = ResNet50(weights='imagenet', include_top=False)\n",
    "\n",
    "    # Load and preprocess the input image\n",
    "    img = image.load_img(image_path, target_size=(224, 224))\n",
    "    x = image.img_to_array(img)\n",
    "    x = np.expand_dims(x, axis=0)\n",
    "    x = preprocess_input(x)\n",
    "\n",
    "    # Use the ResNet50 model to encode the image\n",
    "    features = model.predict(x)\n",
    "\n",
    "    # Flatten the feature map and return the 512-dimensional latent vector\n",
    "    latent_vector = features.flatten()\n",
    "    return latent_vector"
   ]
  },
  {
   "cell_type": "code",
   "execution_count": null,
   "id": "29ca2ee4",
   "metadata": {},
   "outputs": [],
   "source": [
    "image_path = 'D:/Projects/Main Project/test/data/ShapeNet/02828884/1ac6a3d5c76c8b96edccc47bf0dcf5d3/image/0015.png'\n",
    "latent_vector = encode_image(image_path)\n",
    "print(latent_vector[55])"
   ]
  },
  {
   "cell_type": "code",
   "execution_count": null,
   "id": "9b82732c",
   "metadata": {},
   "outputs": [],
   "source": []
  },
  {
   "cell_type": "code",
   "execution_count": 1,
   "id": "1aba8494",
   "metadata": {},
   "outputs": [
    {
     "ename": "ModuleNotFoundError",
     "evalue": "No module named 'torch'",
     "output_type": "error",
     "traceback": [
      "\u001b[1;31m---------------------------------------------------------------------------\u001b[0m",
      "\u001b[1;31mModuleNotFoundError\u001b[0m                       Traceback (most recent call last)",
      "Input \u001b[1;32mIn [1]\u001b[0m, in \u001b[0;36m<cell line: 1>\u001b[1;34m()\u001b[0m\n\u001b[1;32m----> 1\u001b[0m \u001b[38;5;28;01mimport\u001b[39;00m \u001b[38;5;21;01mtorch\u001b[39;00m\n",
      "\u001b[1;31mModuleNotFoundError\u001b[0m: No module named 'torch'"
     ]
    }
   ],
   "source": [
    "import torch"
   ]
  },
  {
   "cell_type": "code",
   "execution_count": null,
   "id": "49bb6641",
   "metadata": {},
   "outputs": [],
   "source": []
  }
 ],
 "metadata": {
  "kernelspec": {
   "display_name": "Python 3 (ipykernel)",
   "language": "python",
   "name": "python3"
  },
  "language_info": {
   "codemirror_mode": {
    "name": "ipython",
    "version": 3
   },
   "file_extension": ".py",
   "mimetype": "text/x-python",
   "name": "python",
   "nbconvert_exporter": "python",
   "pygments_lexer": "ipython3",
   "version": "3.9.12"
  }
 },
 "nbformat": 4,
 "nbformat_minor": 5
}
